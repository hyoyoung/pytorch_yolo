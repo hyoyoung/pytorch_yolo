{
 "cells": [
  {
   "cell_type": "code",
   "execution_count": 1,
   "id": "d1f4cb47",
   "metadata": {},
   "outputs": [
    {
     "name": "stderr",
     "output_type": "stream",
     "text": [
      "Using cache found in /home/hyoyoung/.cache/torch/hub/ultralytics_yolov5_master\n",
      "YOLOv5 🚀 2022-7-2 Python-3.10.5 torch-1.12.0+cu102 CPU\n",
      "\n",
      "Fusing layers... \n",
      "YOLOv5s summary: 213 layers, 7225885 parameters, 0 gradients\n",
      "Adding AutoShape... \n"
     ]
    }
   ],
   "source": [
    "import torch\n",
    "\n",
    "# Model\n",
    "model = torch.hub.load('ultralytics/yolov5', 'yolov5s')  # or yolov5n - yolov5x6, custom"
   ]
  },
  {
   "cell_type": "code",
   "execution_count": 2,
   "id": "789d6065",
   "metadata": {},
   "outputs": [
    {
     "name": "stdout",
     "output_type": "stream",
     "text": [
      "image 1/1: 720x1280 2 persons, 2 ties\n",
      "Speed: 1323.2ms pre-process, 70.2ms inference, 1.0ms NMS per image at shape (1, 3, 384, 640)\n"
     ]
    }
   ],
   "source": [
    "# Images\n",
    "img = 'https://ultralytics.com/images/zidane.jpg'  # or file, Path, PIL, OpenCV, numpy, list\n",
    "\n",
    "# Inference\n",
    "results = model(img)\n",
    "\n",
    "# Results\n",
    "results.print()  # or .show(), .save(), .crop(), .pandas(), etc.\n"
   ]
  },
  {
   "cell_type": "code",
   "execution_count": 9,
   "id": "b93bbac8",
   "metadata": {},
   "outputs": [
    {
     "name": "stderr",
     "output_type": "stream",
     "text": [
      "Saved 1 image to \u001b[1mruns/detect/exp\u001b[0m\n"
     ]
    },
    {
     "name": "stdout",
     "output_type": "stream",
     "text": [
      "image 1/1: 720x1280 2 persons, 2 ties\n",
      "Speed: 1323.2ms pre-process, 70.2ms inference, 1.0ms NMS per image at shape (1, 3, 384, 640)\n"
     ]
    },
    {
     "data": {
      "text/html": [
       "<div>\n",
       "<style scoped>\n",
       "    .dataframe tbody tr th:only-of-type {\n",
       "        vertical-align: middle;\n",
       "    }\n",
       "\n",
       "    .dataframe tbody tr th {\n",
       "        vertical-align: top;\n",
       "    }\n",
       "\n",
       "    .dataframe thead th {\n",
       "        text-align: right;\n",
       "    }\n",
       "</style>\n",
       "<table border=\"1\" class=\"dataframe\">\n",
       "  <thead>\n",
       "    <tr style=\"text-align: right;\">\n",
       "      <th></th>\n",
       "      <th>xmin</th>\n",
       "      <th>ymin</th>\n",
       "      <th>xmax</th>\n",
       "      <th>ymax</th>\n",
       "      <th>confidence</th>\n",
       "      <th>class</th>\n",
       "      <th>name</th>\n",
       "    </tr>\n",
       "  </thead>\n",
       "  <tbody>\n",
       "    <tr>\n",
       "      <th>0</th>\n",
       "      <td>743.290405</td>\n",
       "      <td>48.343628</td>\n",
       "      <td>1141.756592</td>\n",
       "      <td>720.000000</td>\n",
       "      <td>0.879861</td>\n",
       "      <td>0</td>\n",
       "      <td>person</td>\n",
       "    </tr>\n",
       "    <tr>\n",
       "      <th>1</th>\n",
       "      <td>441.989624</td>\n",
       "      <td>437.336670</td>\n",
       "      <td>496.585083</td>\n",
       "      <td>710.036255</td>\n",
       "      <td>0.675119</td>\n",
       "      <td>27</td>\n",
       "      <td>tie</td>\n",
       "    </tr>\n",
       "    <tr>\n",
       "      <th>2</th>\n",
       "      <td>123.051178</td>\n",
       "      <td>193.238098</td>\n",
       "      <td>714.690796</td>\n",
       "      <td>719.771301</td>\n",
       "      <td>0.666693</td>\n",
       "      <td>0</td>\n",
       "      <td>person</td>\n",
       "    </tr>\n",
       "    <tr>\n",
       "      <th>3</th>\n",
       "      <td>978.989807</td>\n",
       "      <td>313.579468</td>\n",
       "      <td>1025.302856</td>\n",
       "      <td>415.526184</td>\n",
       "      <td>0.261517</td>\n",
       "      <td>27</td>\n",
       "      <td>tie</td>\n",
       "    </tr>\n",
       "  </tbody>\n",
       "</table>\n",
       "</div>"
      ],
      "text/plain": [
       "         xmin        ymin         xmax        ymax  confidence  class    name\n",
       "0  743.290405   48.343628  1141.756592  720.000000    0.879861      0  person\n",
       "1  441.989624  437.336670   496.585083  710.036255    0.675119     27     tie\n",
       "2  123.051178  193.238098   714.690796  719.771301    0.666693      0  person\n",
       "3  978.989807  313.579468  1025.302856  415.526184    0.261517     27     tie"
      ]
     },
     "execution_count": 9,
     "metadata": {},
     "output_type": "execute_result"
    }
   ],
   "source": [
    "# Results\n",
    "results.print()  \n",
    "results.save()  # or .show()\n",
    "\n",
    "results.xyxy[0]  # im1 predictions (tensor)\n",
    "results.pandas().xyxy[0]  # im1 predictions (pandas)"
   ]
  },
  {
   "cell_type": "code",
   "execution_count": 28,
   "id": "3504e843",
   "metadata": {},
   "outputs": [
    {
     "data": {
      "text/plain": [
       "'[{\"xmin\":743.2904052734,\"ymin\":48.3436279297,\"xmax\":1141.7565917969,\"ymax\":720.0,\"confidence\":0.8798606396,\"class\":0,\"name\":\"person\"},{\"xmin\":441.9896240234,\"ymin\":437.3366699219,\"xmax\":496.5850830078,\"ymax\":710.0362548828,\"confidence\":0.6751188636,\"class\":27,\"name\":\"tie\"},{\"xmin\":123.0511779785,\"ymin\":193.2380981445,\"xmax\":714.6907958984,\"ymax\":719.7713012695,\"confidence\":0.6666927338,\"class\":0,\"name\":\"person\"},{\"xmin\":978.9898071289,\"ymin\":313.5794677734,\"xmax\":1025.3028564453,\"ymax\":415.526184082,\"confidence\":0.2615168691,\"class\":27,\"name\":\"tie\"}]'"
      ]
     },
     "execution_count": 28,
     "metadata": {},
     "output_type": "execute_result"
    }
   ],
   "source": [
    "results.pandas().xyxy[0].to_json(orient=\"records\")"
   ]
  },
  {
   "cell_type": "code",
   "execution_count": null,
   "id": "04054f14",
   "metadata": {},
   "outputs": [],
   "source": []
  }
 ],
 "metadata": {
  "kernelspec": {
   "display_name": "Python 3 (ipykernel)",
   "language": "python",
   "name": "python3"
  },
  "language_info": {
   "codemirror_mode": {
    "name": "ipython",
    "version": 3
   },
   "file_extension": ".py",
   "mimetype": "text/x-python",
   "name": "python",
   "nbconvert_exporter": "python",
   "pygments_lexer": "ipython3",
   "version": "3.10.5"
  }
 },
 "nbformat": 4,
 "nbformat_minor": 5
}
